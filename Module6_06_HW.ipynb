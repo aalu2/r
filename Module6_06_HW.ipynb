{
  "cells": [
    {
      "cell_type": "markdown",
      "metadata": {
        "tags": [],
        "id": "gHP8eiDwa105"
      },
      "source": [
        "# Title\n",
        "\n",
        "**- A Walkthrough Example**\n",
        "\n",
        "# Description\n",
        "\n",
        "The aim of this HW is to let you do some analysis on your own with less structure.\n",
        "\n",
        "# Dataset Description:\n",
        "The dataset used here is the Wine data set (another commonly used sklearn dataset).  Use this to answer the questions embedded in the Notebook.\n",
        "\n",
        "# Instructions:\n",
        "1. Read the data.  \n",
        "2. Do some explorations.\n",
        "3. Fit some multiclass models.\n",
        "4. Interpret these models.\n",
        "\n",
        "# Hints:\n",
        "\n",
        "<a href=\"https://scikit-learn.org/stable/modules/generated/sklearn.linear_model.LogisticRegression.html\" target=\"_blank\">sklearn.LogisticRegression()</a> : Generates a Logistic Regression classifier\n",
        "\n",
        "<a href=\"https://scikit-learn.org/stable/modules/generated/sklearn.linear_model.LogisticRegression.html#sklearn.linear_model.LogisticRegression.fit\" target=\"_blank\">sklearn.fit()</a> : Fits the model to the given data\n",
        "\n",
        "<a href=\"https://scikit-learn.org/stable/modules/generated/sklearn.linear_model.LogisticRegression.html#sklearn.linear_model.LogisticRegression.predict\" target=\"_blank\">sklearn.predict()</a> : Predict using the estimated model (Logistic or knn classifiers) to perform pure classification predictions\n",
        "\n",
        "<a href=\"https://scikit-learn.org/stable/modules/generated/sklearn.linear_model.LogisticRegression.html#sklearn.linear_model.LogisticRegression.predict_proba\" target=\"_blank\">sklearn.predict_proba()</a> : Predict using the estimated model (Logistic or knn classifiers) to perform probability predictions of all the classes in the response (they should add up to 1 for each observation)\n",
        "\n",
        "<a href=\"https://scikit-learn.org/stable/modules/generated/sklearn.linear_model.LogisticRegression.html\" target=\"_blank\">sklearn.LogisticRegression.coef_ and .intercept_</a> : Pull off the estimated β coefficients in a Logistic Regression model\n",
        "\n",
        "<a href=\"https://scikit-learn.org/stable/modules/generated/sklearn.neighbors.KNeighborsClassifier.html\" target=\"_blank\">sklearn.KNeighborsClassifier</a> : Fit a k-NN classification model\n"
      ]
    },
    {
      "cell_type": "code",
      "execution_count": 1,
      "metadata": {
        "id": "z89EPN7ba109"
      },
      "outputs": [],
      "source": [
        "from sklearn import datasets\n",
        "import matplotlib.pyplot as plt\n",
        "import seaborn as sns\n",
        "import pandas as pd\n",
        "import numpy as np\n",
        "\n",
        "from sklearn.linear_model import LogisticRegression\n",
        "from sklearn.neighbors import KNeighborsClassifier\n",
        "#import sklearn.metrics as met\n",
        "\n",
        "from sklearn.preprocessing import PolynomialFeatures\n",
        "from sklearn.model_selection import train_test_split"
      ]
    },
    {
      "cell_type": "markdown",
      "metadata": {
        "id": "fyOn0XGCa10_"
      },
      "source": [
        "First Read in the data set and take a peak at it:"
      ]
    },
    {
      "cell_type": "code",
      "execution_count": 2,
      "metadata": {
        "colab": {
          "base_uri": "https://localhost:8080/"
        },
        "id": "87VxPdjwa10_",
        "outputId": "e9431612-176a-4284-c9be-48557e3c8911"
      },
      "outputs": [
        {
          "output_type": "stream",
          "name": "stdout",
          "text": [
            "(178, 13) (178,)\n"
          ]
        }
      ],
      "source": [
        "raw = datasets.load_wine()\n",
        "X_full = pd.DataFrame(raw['data'],columns=raw['feature_names'])\n",
        "y = raw['target']\n",
        "print(X_full.shape,y.shape)"
      ]
    },
    {
      "cell_type": "code",
      "execution_count": 3,
      "metadata": {
        "colab": {
          "base_uri": "https://localhost:8080/",
          "height": 206
        },
        "id": "Cm1eTAZza11B",
        "outputId": "7279ce11-fa51-4eb3-912c-f5542e49f743"
      },
      "outputs": [
        {
          "output_type": "execute_result",
          "data": {
            "text/plain": [
              "   alcohol  malic_acid   ash  alcalinity_of_ash  magnesium  total_phenols  \\\n",
              "0    14.23        1.71  2.43               15.6      127.0           2.80   \n",
              "1    13.20        1.78  2.14               11.2      100.0           2.65   \n",
              "2    13.16        2.36  2.67               18.6      101.0           2.80   \n",
              "3    14.37        1.95  2.50               16.8      113.0           3.85   \n",
              "4    13.24        2.59  2.87               21.0      118.0           2.80   \n",
              "\n",
              "   flavanoids  nonflavanoid_phenols  proanthocyanins  color_intensity   hue  \\\n",
              "0        3.06                  0.28             2.29             5.64  1.04   \n",
              "1        2.76                  0.26             1.28             4.38  1.05   \n",
              "2        3.24                  0.30             2.81             5.68  1.03   \n",
              "3        3.49                  0.24             2.18             7.80  0.86   \n",
              "4        2.69                  0.39             1.82             4.32  1.04   \n",
              "\n",
              "   od280/od315_of_diluted_wines  proline  \n",
              "0                          3.92   1065.0  \n",
              "1                          3.40   1050.0  \n",
              "2                          3.17   1185.0  \n",
              "3                          3.45   1480.0  \n",
              "4                          2.93    735.0  "
            ],
            "text/html": [
              "\n",
              "  <div id=\"df-2bc9eb95-a874-46ed-b53b-e25ffa791c3e\" class=\"colab-df-container\">\n",
              "    <div>\n",
              "<style scoped>\n",
              "    .dataframe tbody tr th:only-of-type {\n",
              "        vertical-align: middle;\n",
              "    }\n",
              "\n",
              "    .dataframe tbody tr th {\n",
              "        vertical-align: top;\n",
              "    }\n",
              "\n",
              "    .dataframe thead th {\n",
              "        text-align: right;\n",
              "    }\n",
              "</style>\n",
              "<table border=\"1\" class=\"dataframe\">\n",
              "  <thead>\n",
              "    <tr style=\"text-align: right;\">\n",
              "      <th></th>\n",
              "      <th>alcohol</th>\n",
              "      <th>malic_acid</th>\n",
              "      <th>ash</th>\n",
              "      <th>alcalinity_of_ash</th>\n",
              "      <th>magnesium</th>\n",
              "      <th>total_phenols</th>\n",
              "      <th>flavanoids</th>\n",
              "      <th>nonflavanoid_phenols</th>\n",
              "      <th>proanthocyanins</th>\n",
              "      <th>color_intensity</th>\n",
              "      <th>hue</th>\n",
              "      <th>od280/od315_of_diluted_wines</th>\n",
              "      <th>proline</th>\n",
              "    </tr>\n",
              "  </thead>\n",
              "  <tbody>\n",
              "    <tr>\n",
              "      <th>0</th>\n",
              "      <td>14.23</td>\n",
              "      <td>1.71</td>\n",
              "      <td>2.43</td>\n",
              "      <td>15.6</td>\n",
              "      <td>127.0</td>\n",
              "      <td>2.80</td>\n",
              "      <td>3.06</td>\n",
              "      <td>0.28</td>\n",
              "      <td>2.29</td>\n",
              "      <td>5.64</td>\n",
              "      <td>1.04</td>\n",
              "      <td>3.92</td>\n",
              "      <td>1065.0</td>\n",
              "    </tr>\n",
              "    <tr>\n",
              "      <th>1</th>\n",
              "      <td>13.20</td>\n",
              "      <td>1.78</td>\n",
              "      <td>2.14</td>\n",
              "      <td>11.2</td>\n",
              "      <td>100.0</td>\n",
              "      <td>2.65</td>\n",
              "      <td>2.76</td>\n",
              "      <td>0.26</td>\n",
              "      <td>1.28</td>\n",
              "      <td>4.38</td>\n",
              "      <td>1.05</td>\n",
              "      <td>3.40</td>\n",
              "      <td>1050.0</td>\n",
              "    </tr>\n",
              "    <tr>\n",
              "      <th>2</th>\n",
              "      <td>13.16</td>\n",
              "      <td>2.36</td>\n",
              "      <td>2.67</td>\n",
              "      <td>18.6</td>\n",
              "      <td>101.0</td>\n",
              "      <td>2.80</td>\n",
              "      <td>3.24</td>\n",
              "      <td>0.30</td>\n",
              "      <td>2.81</td>\n",
              "      <td>5.68</td>\n",
              "      <td>1.03</td>\n",
              "      <td>3.17</td>\n",
              "      <td>1185.0</td>\n",
              "    </tr>\n",
              "    <tr>\n",
              "      <th>3</th>\n",
              "      <td>14.37</td>\n",
              "      <td>1.95</td>\n",
              "      <td>2.50</td>\n",
              "      <td>16.8</td>\n",
              "      <td>113.0</td>\n",
              "      <td>3.85</td>\n",
              "      <td>3.49</td>\n",
              "      <td>0.24</td>\n",
              "      <td>2.18</td>\n",
              "      <td>7.80</td>\n",
              "      <td>0.86</td>\n",
              "      <td>3.45</td>\n",
              "      <td>1480.0</td>\n",
              "    </tr>\n",
              "    <tr>\n",
              "      <th>4</th>\n",
              "      <td>13.24</td>\n",
              "      <td>2.59</td>\n",
              "      <td>2.87</td>\n",
              "      <td>21.0</td>\n",
              "      <td>118.0</td>\n",
              "      <td>2.80</td>\n",
              "      <td>2.69</td>\n",
              "      <td>0.39</td>\n",
              "      <td>1.82</td>\n",
              "      <td>4.32</td>\n",
              "      <td>1.04</td>\n",
              "      <td>2.93</td>\n",
              "      <td>735.0</td>\n",
              "    </tr>\n",
              "  </tbody>\n",
              "</table>\n",
              "</div>\n",
              "    <div class=\"colab-df-buttons\">\n",
              "\n",
              "  <div class=\"colab-df-container\">\n",
              "    <button class=\"colab-df-convert\" onclick=\"convertToInteractive('df-2bc9eb95-a874-46ed-b53b-e25ffa791c3e')\"\n",
              "            title=\"Convert this dataframe to an interactive table.\"\n",
              "            style=\"display:none;\">\n",
              "\n",
              "  <svg xmlns=\"http://www.w3.org/2000/svg\" height=\"24px\" viewBox=\"0 -960 960 960\">\n",
              "    <path d=\"M120-120v-720h720v720H120Zm60-500h600v-160H180v160Zm220 220h160v-160H400v160Zm0 220h160v-160H400v160ZM180-400h160v-160H180v160Zm440 0h160v-160H620v160ZM180-180h160v-160H180v160Zm440 0h160v-160H620v160Z\"/>\n",
              "  </svg>\n",
              "    </button>\n",
              "\n",
              "  <style>\n",
              "    .colab-df-container {\n",
              "      display:flex;\n",
              "      gap: 12px;\n",
              "    }\n",
              "\n",
              "    .colab-df-convert {\n",
              "      background-color: #E8F0FE;\n",
              "      border: none;\n",
              "      border-radius: 50%;\n",
              "      cursor: pointer;\n",
              "      display: none;\n",
              "      fill: #1967D2;\n",
              "      height: 32px;\n",
              "      padding: 0 0 0 0;\n",
              "      width: 32px;\n",
              "    }\n",
              "\n",
              "    .colab-df-convert:hover {\n",
              "      background-color: #E2EBFA;\n",
              "      box-shadow: 0px 1px 2px rgba(60, 64, 67, 0.3), 0px 1px 3px 1px rgba(60, 64, 67, 0.15);\n",
              "      fill: #174EA6;\n",
              "    }\n",
              "\n",
              "    .colab-df-buttons div {\n",
              "      margin-bottom: 4px;\n",
              "    }\n",
              "\n",
              "    [theme=dark] .colab-df-convert {\n",
              "      background-color: #3B4455;\n",
              "      fill: #D2E3FC;\n",
              "    }\n",
              "\n",
              "    [theme=dark] .colab-df-convert:hover {\n",
              "      background-color: #434B5C;\n",
              "      box-shadow: 0px 1px 3px 1px rgba(0, 0, 0, 0.15);\n",
              "      filter: drop-shadow(0px 1px 2px rgba(0, 0, 0, 0.3));\n",
              "      fill: #FFFFFF;\n",
              "    }\n",
              "  </style>\n",
              "\n",
              "    <script>\n",
              "      const buttonEl =\n",
              "        document.querySelector('#df-2bc9eb95-a874-46ed-b53b-e25ffa791c3e button.colab-df-convert');\n",
              "      buttonEl.style.display =\n",
              "        google.colab.kernel.accessAllowed ? 'block' : 'none';\n",
              "\n",
              "      async function convertToInteractive(key) {\n",
              "        const element = document.querySelector('#df-2bc9eb95-a874-46ed-b53b-e25ffa791c3e');\n",
              "        const dataTable =\n",
              "          await google.colab.kernel.invokeFunction('convertToInteractive',\n",
              "                                                    [key], {});\n",
              "        if (!dataTable) return;\n",
              "\n",
              "        const docLinkHtml = 'Like what you see? Visit the ' +\n",
              "          '<a target=\"_blank\" href=https://colab.research.google.com/notebooks/data_table.ipynb>data table notebook</a>'\n",
              "          + ' to learn more about interactive tables.';\n",
              "        element.innerHTML = '';\n",
              "        dataTable['output_type'] = 'display_data';\n",
              "        await google.colab.output.renderOutput(dataTable, element);\n",
              "        const docLink = document.createElement('div');\n",
              "        docLink.innerHTML = docLinkHtml;\n",
              "        element.appendChild(docLink);\n",
              "      }\n",
              "    </script>\n",
              "  </div>\n",
              "\n",
              "\n",
              "<div id=\"df-f4a35497-6fb9-47a1-a775-f4a6667e7d69\">\n",
              "  <button class=\"colab-df-quickchart\" onclick=\"quickchart('df-f4a35497-6fb9-47a1-a775-f4a6667e7d69')\"\n",
              "            title=\"Suggest charts\"\n",
              "            style=\"display:none;\">\n",
              "\n",
              "<svg xmlns=\"http://www.w3.org/2000/svg\" height=\"24px\"viewBox=\"0 0 24 24\"\n",
              "     width=\"24px\">\n",
              "    <g>\n",
              "        <path d=\"M19 3H5c-1.1 0-2 .9-2 2v14c0 1.1.9 2 2 2h14c1.1 0 2-.9 2-2V5c0-1.1-.9-2-2-2zM9 17H7v-7h2v7zm4 0h-2V7h2v10zm4 0h-2v-4h2v4z\"/>\n",
              "    </g>\n",
              "</svg>\n",
              "  </button>\n",
              "\n",
              "<style>\n",
              "  .colab-df-quickchart {\n",
              "      --bg-color: #E8F0FE;\n",
              "      --fill-color: #1967D2;\n",
              "      --hover-bg-color: #E2EBFA;\n",
              "      --hover-fill-color: #174EA6;\n",
              "      --disabled-fill-color: #AAA;\n",
              "      --disabled-bg-color: #DDD;\n",
              "  }\n",
              "\n",
              "  [theme=dark] .colab-df-quickchart {\n",
              "      --bg-color: #3B4455;\n",
              "      --fill-color: #D2E3FC;\n",
              "      --hover-bg-color: #434B5C;\n",
              "      --hover-fill-color: #FFFFFF;\n",
              "      --disabled-bg-color: #3B4455;\n",
              "      --disabled-fill-color: #666;\n",
              "  }\n",
              "\n",
              "  .colab-df-quickchart {\n",
              "    background-color: var(--bg-color);\n",
              "    border: none;\n",
              "    border-radius: 50%;\n",
              "    cursor: pointer;\n",
              "    display: none;\n",
              "    fill: var(--fill-color);\n",
              "    height: 32px;\n",
              "    padding: 0;\n",
              "    width: 32px;\n",
              "  }\n",
              "\n",
              "  .colab-df-quickchart:hover {\n",
              "    background-color: var(--hover-bg-color);\n",
              "    box-shadow: 0 1px 2px rgba(60, 64, 67, 0.3), 0 1px 3px 1px rgba(60, 64, 67, 0.15);\n",
              "    fill: var(--button-hover-fill-color);\n",
              "  }\n",
              "\n",
              "  .colab-df-quickchart-complete:disabled,\n",
              "  .colab-df-quickchart-complete:disabled:hover {\n",
              "    background-color: var(--disabled-bg-color);\n",
              "    fill: var(--disabled-fill-color);\n",
              "    box-shadow: none;\n",
              "  }\n",
              "\n",
              "  .colab-df-spinner {\n",
              "    border: 2px solid var(--fill-color);\n",
              "    border-color: transparent;\n",
              "    border-bottom-color: var(--fill-color);\n",
              "    animation:\n",
              "      spin 1s steps(1) infinite;\n",
              "  }\n",
              "\n",
              "  @keyframes spin {\n",
              "    0% {\n",
              "      border-color: transparent;\n",
              "      border-bottom-color: var(--fill-color);\n",
              "      border-left-color: var(--fill-color);\n",
              "    }\n",
              "    20% {\n",
              "      border-color: transparent;\n",
              "      border-left-color: var(--fill-color);\n",
              "      border-top-color: var(--fill-color);\n",
              "    }\n",
              "    30% {\n",
              "      border-color: transparent;\n",
              "      border-left-color: var(--fill-color);\n",
              "      border-top-color: var(--fill-color);\n",
              "      border-right-color: var(--fill-color);\n",
              "    }\n",
              "    40% {\n",
              "      border-color: transparent;\n",
              "      border-right-color: var(--fill-color);\n",
              "      border-top-color: var(--fill-color);\n",
              "    }\n",
              "    60% {\n",
              "      border-color: transparent;\n",
              "      border-right-color: var(--fill-color);\n",
              "    }\n",
              "    80% {\n",
              "      border-color: transparent;\n",
              "      border-right-color: var(--fill-color);\n",
              "      border-bottom-color: var(--fill-color);\n",
              "    }\n",
              "    90% {\n",
              "      border-color: transparent;\n",
              "      border-bottom-color: var(--fill-color);\n",
              "    }\n",
              "  }\n",
              "</style>\n",
              "\n",
              "  <script>\n",
              "    async function quickchart(key) {\n",
              "      const quickchartButtonEl =\n",
              "        document.querySelector('#' + key + ' button');\n",
              "      quickchartButtonEl.disabled = true;  // To prevent multiple clicks.\n",
              "      quickchartButtonEl.classList.add('colab-df-spinner');\n",
              "      try {\n",
              "        const charts = await google.colab.kernel.invokeFunction(\n",
              "            'suggestCharts', [key], {});\n",
              "      } catch (error) {\n",
              "        console.error('Error during call to suggestCharts:', error);\n",
              "      }\n",
              "      quickchartButtonEl.classList.remove('colab-df-spinner');\n",
              "      quickchartButtonEl.classList.add('colab-df-quickchart-complete');\n",
              "    }\n",
              "    (() => {\n",
              "      let quickchartButtonEl =\n",
              "        document.querySelector('#df-f4a35497-6fb9-47a1-a775-f4a6667e7d69 button');\n",
              "      quickchartButtonEl.style.display =\n",
              "        google.colab.kernel.accessAllowed ? 'block' : 'none';\n",
              "    })();\n",
              "  </script>\n",
              "</div>\n",
              "\n",
              "    </div>\n",
              "  </div>\n"
            ],
            "application/vnd.google.colaboratory.intrinsic+json": {
              "type": "dataframe",
              "variable_name": "X_full",
              "summary": "{\n  \"name\": \"X_full\",\n  \"rows\": 178,\n  \"fields\": [\n    {\n      \"column\": \"alcohol\",\n      \"properties\": {\n        \"dtype\": \"number\",\n        \"std\": 0.8118265380058577,\n        \"min\": 11.03,\n        \"max\": 14.83,\n        \"num_unique_values\": 126,\n        \"samples\": [\n          11.62,\n          13.64,\n          13.69\n        ],\n        \"semantic_type\": \"\",\n        \"description\": \"\"\n      }\n    },\n    {\n      \"column\": \"malic_acid\",\n      \"properties\": {\n        \"dtype\": \"number\",\n        \"std\": 1.1171460976144627,\n        \"min\": 0.74,\n        \"max\": 5.8,\n        \"num_unique_values\": 133,\n        \"samples\": [\n          1.21,\n          2.83,\n          1.8\n        ],\n        \"semantic_type\": \"\",\n        \"description\": \"\"\n      }\n    },\n    {\n      \"column\": \"ash\",\n      \"properties\": {\n        \"dtype\": \"number\",\n        \"std\": 0.2743440090608148,\n        \"min\": 1.36,\n        \"max\": 3.23,\n        \"num_unique_values\": 79,\n        \"samples\": [\n          2.31,\n          2.43,\n          2.52\n        ],\n        \"semantic_type\": \"\",\n        \"description\": \"\"\n      }\n    },\n    {\n      \"column\": \"alcalinity_of_ash\",\n      \"properties\": {\n        \"dtype\": \"number\",\n        \"std\": 3.3395637671735052,\n        \"min\": 10.6,\n        \"max\": 30.0,\n        \"num_unique_values\": 63,\n        \"samples\": [\n          25.5,\n          28.5,\n          15.6\n        ],\n        \"semantic_type\": \"\",\n        \"description\": \"\"\n      }\n    },\n    {\n      \"column\": \"magnesium\",\n      \"properties\": {\n        \"dtype\": \"number\",\n        \"std\": 14.282483515295668,\n        \"min\": 70.0,\n        \"max\": 162.0,\n        \"num_unique_values\": 53,\n        \"samples\": [\n          126.0,\n          85.0,\n          162.0\n        ],\n        \"semantic_type\": \"\",\n        \"description\": \"\"\n      }\n    },\n    {\n      \"column\": \"total_phenols\",\n      \"properties\": {\n        \"dtype\": \"number\",\n        \"std\": 0.6258510488339891,\n        \"min\": 0.98,\n        \"max\": 3.88,\n        \"num_unique_values\": 97,\n        \"samples\": [\n          1.68,\n          2.11,\n          1.35\n        ],\n        \"semantic_type\": \"\",\n        \"description\": \"\"\n      }\n    },\n    {\n      \"column\": \"flavanoids\",\n      \"properties\": {\n        \"dtype\": \"number\",\n        \"std\": 0.9988586850169465,\n        \"min\": 0.34,\n        \"max\": 5.08,\n        \"num_unique_values\": 132,\n        \"samples\": [\n          3.18,\n          2.5,\n          3.17\n        ],\n        \"semantic_type\": \"\",\n        \"description\": \"\"\n      }\n    },\n    {\n      \"column\": \"nonflavanoid_phenols\",\n      \"properties\": {\n        \"dtype\": \"number\",\n        \"std\": 0.12445334029667939,\n        \"min\": 0.13,\n        \"max\": 0.66,\n        \"num_unique_values\": 39,\n        \"samples\": [\n          0.58,\n          0.41,\n          0.39\n        ],\n        \"semantic_type\": \"\",\n        \"description\": \"\"\n      }\n    },\n    {\n      \"column\": \"proanthocyanins\",\n      \"properties\": {\n        \"dtype\": \"number\",\n        \"std\": 0.5723588626747611,\n        \"min\": 0.41,\n        \"max\": 3.58,\n        \"num_unique_values\": 101,\n        \"samples\": [\n          0.75,\n          1.77,\n          1.42\n        ],\n        \"semantic_type\": \"\",\n        \"description\": \"\"\n      }\n    },\n    {\n      \"column\": \"color_intensity\",\n      \"properties\": {\n        \"dtype\": \"number\",\n        \"std\": 2.318285871822413,\n        \"min\": 1.28,\n        \"max\": 13.0,\n        \"num_unique_values\": 132,\n        \"samples\": [\n          2.95,\n          3.3,\n          5.1\n        ],\n        \"semantic_type\": \"\",\n        \"description\": \"\"\n      }\n    },\n    {\n      \"column\": \"hue\",\n      \"properties\": {\n        \"dtype\": \"number\",\n        \"std\": 0.22857156582982338,\n        \"min\": 0.48,\n        \"max\": 1.71,\n        \"num_unique_values\": 78,\n        \"samples\": [\n          1.22,\n          1.04,\n          1.45\n        ],\n        \"semantic_type\": \"\",\n        \"description\": \"\"\n      }\n    },\n    {\n      \"column\": \"od280/od315_of_diluted_wines\",\n      \"properties\": {\n        \"dtype\": \"number\",\n        \"std\": 0.7099904287650505,\n        \"min\": 1.27,\n        \"max\": 4.0,\n        \"num_unique_values\": 122,\n        \"samples\": [\n          4.0,\n          1.82,\n          1.59\n        ],\n        \"semantic_type\": \"\",\n        \"description\": \"\"\n      }\n    },\n    {\n      \"column\": \"proline\",\n      \"properties\": {\n        \"dtype\": \"number\",\n        \"std\": 314.9074742768489,\n        \"min\": 278.0,\n        \"max\": 1680.0,\n        \"num_unique_values\": 121,\n        \"samples\": [\n          1375.0,\n          1270.0,\n          735.0\n        ],\n        \"semantic_type\": \"\",\n        \"description\": \"\"\n      }\n    }\n  ]\n}"
            }
          },
          "metadata": {},
          "execution_count": 3
        }
      ],
      "source": [
        "X_full.head()"
      ]
    },
    {
      "cell_type": "markdown",
      "metadata": {
        "id": "AR1TSlwVa11B"
      },
      "source": [
        "**Q1**: Perform a 70-30 `train_test_split` using `random_state=109` and `shuffle=True`.  Why is it important to shuffle here?"
      ]
    },
    {
      "cell_type": "code",
      "execution_count": 11,
      "metadata": {
        "colab": {
          "base_uri": "https://localhost:8080/",
          "height": 107
        },
        "id": "UGjgRmPoa11C",
        "outputId": "f3d3771c-f794-458c-86c7-271ff6d36a7b"
      },
      "outputs": [
        {
          "output_type": "stream",
          "name": "stdout",
          "text": [
            "X_train shape: (124, 13)\n",
            "X_test shape: (54, 13)\n",
            "y_train shape: (124,)\n",
            "y_test shape: (54,)\n"
          ]
        },
        {
          "output_type": "execute_result",
          "data": {
            "text/plain": [
              "'#Shuffling ensures the train and test sets are representative of the entire dataset.\\n#Without it, data may be split by class order, causing biased training and poor evaluation. It helps the model generalize better to unseen data.'"
            ],
            "application/vnd.google.colaboratory.intrinsic+json": {
              "type": "string"
            }
          },
          "metadata": {},
          "execution_count": 11
        }
      ],
      "source": [
        "### your code here\n",
        "# Perform a 70-30 train_test_split with random_state=109 and shuffle=True\n",
        "X_train, X_test, y_train, y_test = train_test_split(\n",
        "    X_full, y, test_size=0.3, random_state=109, shuffle=True\n",
        ")\n",
        "\n",
        "# Print the shapes to verify the split\n",
        "print(\"X_train shape:\", X_train.shape)\n",
        "print(\"X_test shape:\", X_test.shape)\n",
        "print(\"y_train shape:\", y_train.shape)\n",
        "print(\"y_test shape:\", y_test.shape)\n",
        "\n",
        "'''#Shuffling ensures the train and test sets are representative of the entire dataset.\n",
        "#Without it, data may be split by class order, causing biased training and poor evaluation. It helps the model generalize better to unseen data.'''"
      ]
    },
    {
      "cell_type": "markdown",
      "metadata": {
        "id": "NCt76wwEa11C"
      },
      "source": [
        "*your answer here*"
      ]
    },
    {
      "cell_type": "markdown",
      "metadata": {
        "id": "DddUMCJRa11D"
      },
      "source": [
        "**Q2**: Explore the data a little.  Visualize the marginal association (aka, bivariate relationship) of wine type to amount of alcohol, level of malic acid, and total level of phenols.  Which predictor seems to have the strongest association with the response?"
      ]
    },
    {
      "cell_type": "code",
      "execution_count": 9,
      "metadata": {
        "colab": {
          "base_uri": "https://localhost:8080/",
          "height": 526
        },
        "id": "DdApfmkTa11D",
        "outputId": "3af815ec-4c1e-4810-b545-762c35c676e2"
      },
      "outputs": [
        {
          "output_type": "display_data",
          "data": {
            "text/plain": [
              "<Figure size 1500x500 with 3 Axes>"
            ],
            "image/png": "[encoded data removed]"
          },
          "metadata": {}
        },
        {
          "output_type": "execute_result",
          "data": {
            "text/plain": [
              "'By observing the separation of distributions between wine types, alcohol typically shows the strongest association, with clear differences between classes.'"
            ],
            "application/vnd.google.colaboratory.intrinsic+json": {
              "type": "string"
            }
          },
          "metadata": {},
          "execution_count": 9
        }
      ],
      "source": [
        "### your code here\n",
        "# Visualize the bivariate relationship between wine type and selected features\n",
        "features = ['alcohol', 'malic_acid', 'total_phenols']\n",
        "\n",
        "# Create boxplots to compare the distribution of each feature across wine types\n",
        "plt.figure(figsize=(15, 5))\n",
        "for i, feature in enumerate(features):\n",
        "    plt.subplot(1, 3, i + 1)\n",
        "    sns.boxplot(x=y, y=X_full[feature])\n",
        "    plt.title(f'Wine Type vs {feature.capitalize()}')\n",
        "    plt.xlabel('Wine Type')\n",
        "    plt.ylabel(feature.capitalize())\n",
        "\n",
        "plt.tight_layout()\n",
        "plt.show()\n",
        "\n",
        "'''By observing the separation of distributions between wine types, alcohol typically shows the strongest association, with clear differences between classes.'''"
      ]
    },
    {
      "cell_type": "markdown",
      "metadata": {
        "id": "uUdDrTsCa11E"
      },
      "source": [
        "*your answer here*"
      ]
    },
    {
      "cell_type": "markdown",
      "metadata": {
        "id": "vEZAPksha11F"
      },
      "source": [
        "**Q3**: Fit 3 different models with ['alcohol','malic_acid'] as the predictors: (1) a standard logistic regression to predict a binary indicator for class 0 (you'll have to crete it yourself), (2) a multinomial logistic regression to predict all 3 classes and (3) a OvR logistic reression to predict all 3 classes.  Compare the results"
      ]
    },
    {
      "cell_type": "code",
      "execution_count": 13,
      "metadata": {
        "colab": {
          "base_uri": "https://localhost:8080/"
        },
        "id": "Yw6yRpkla11F",
        "outputId": "2596944f-025b-47c2-f9cb-e66ca09179bc"
      },
      "outputs": [
        {
          "output_type": "stream",
          "name": "stdout",
          "text": [
            "(1) Binary Logistic Regression (Class 0 vs Rest) Accuracy: 0.833\n",
            "(2) Multinomial Logistic Regression Accuracy: 0.704\n",
            "(3) One-vs-Rest Logistic Regression Accuracy: 0.722\n"
          ]
        },
        {
          "output_type": "stream",
          "name": "stderr",
          "text": [
            "/usr/local/lib/python3.11/dist-packages/sklearn/linear_model/_logistic.py:1247: FutureWarning: 'multi_class' was deprecated in version 1.5 and will be removed in 1.7. From then on, it will always use 'multinomial'. Leave it to its default value to avoid this warning.\n",
            "  warnings.warn(\n",
            "/usr/local/lib/python3.11/dist-packages/sklearn/linear_model/_logistic.py:1256: FutureWarning: 'multi_class' was deprecated in version 1.5 and will be removed in 1.7. Use OneVsRestClassifier(LogisticRegression(..)) instead. Leave it to its default value to avoid this warning.\n",
            "  warnings.warn(\n"
          ]
        }
      ],
      "source": [
        "###your code here\n",
        "# Create binary indicator for class 0\n",
        "y_binary = (y == 0).astype(int)\n",
        "\n",
        "# Select predictors\n",
        "X_selected = X_full[['alcohol', 'malic_acid']]\n",
        "\n",
        "# Split data for binary classification\n",
        "X_train_bin, X_test_bin, y_train_bin, y_test_bin = train_test_split(\n",
        "    X_selected, y_binary, test_size=0.3, random_state=109, shuffle=True\n",
        ")\n",
        "\n",
        "# Split data for multiclass classification\n",
        "X_train_multi, X_test_multi, y_train_multi, y_test_multi = train_test_split(\n",
        "    X_selected, y, test_size=0.3, random_state=109, shuffle=True\n",
        ")\n",
        "\n",
        "# (1) Standard logistic regression (binary classification)\n",
        "binary_model = LogisticRegression()\n",
        "binary_model.fit(X_train_bin, y_train_bin)\n",
        "binary_score = binary_model.score(X_test_bin, y_test_bin)\n",
        "\n",
        "# (2) Multinomial logistic regression (3 classes)\n",
        "multi_model = LogisticRegression(multi_class='multinomial', solver='lbfgs')\n",
        "multi_model.fit(X_train_multi, y_train_multi)\n",
        "multi_score = multi_model.score(X_test_multi, y_test_multi)\n",
        "\n",
        "# (3) One-vs-Rest (OvR) logistic regression (3 classes)\n",
        "ovr_model = LogisticRegression(multi_class='ovr', solver='lbfgs')\n",
        "ovr_model.fit(X_train_multi, y_train_multi)\n",
        "ovr_score = ovr_model.score(X_test_multi, y_test_multi)\n",
        "\n",
        "# Compare results\n",
        "print(f\"(1) Binary Logistic Regression (Class 0 vs Rest) Accuracy: {binary_score:.3f}\")\n",
        "print(f\"(2) Multinomial Logistic Regression Accuracy: {multi_score:.3f}\")\n",
        "print(f\"(3) One-vs-Rest Logistic Regression Accuracy: {ovr_score:.3f}\")\n",
        "\n"
      ]
    },
    {
      "cell_type": "code",
      "source": [
        "'''The binary logistic regression had the highest accuracy (0.833) because it simplified the problem to distinguishing class 0 from others.\n",
        "The One-vs-Rest model performed better (0.722) than multinomial (0.704), as it splits the problem into easier binary tasks.\n",
        "Overall, multinomial regression struggles more with class interactions in this case.'''"
      ],
      "metadata": {
        "colab": {
          "base_uri": "https://localhost:8080/",
          "height": 53
        },
        "id": "zO3LQ99v4teL",
        "outputId": "c72e60f1-bd32-44f6-d57f-4f533816cdeb"
      },
      "execution_count": 8,
      "outputs": [
        {
          "output_type": "execute_result",
          "data": {
            "text/plain": [
              "'The binary logistic regression had the highest accuracy (0.833) because it simplified the problem to distinguishing class 0 from others. \\nThe One-vs-Rest model performed better (0.722) than multinomial (0.704), as it splits the problem into easier binary tasks.\\nOverall, multinomial regression struggles more with class interactions in this case.'"
            ],
            "application/vnd.google.colaboratory.intrinsic+json": {
              "type": "string"
            }
          },
          "metadata": {},
          "execution_count": 8
        }
      ]
    },
    {
      "cell_type": "markdown",
      "metadata": {
        "id": "SLfHcl9Na11F"
      },
      "source": [
        "*your answer here*"
      ]
    },
    {
      "cell_type": "markdown",
      "metadata": {
        "id": "8vM4R1Nea11G"
      },
      "source": [
        "**Q4**: For the Multinomial model, use the estimated coefficients to calculate the predicted probabilties by hand.  Feel free to confirm with the `predict_proba` command."
      ]
    },
    {
      "cell_type": "code",
      "execution_count": 14,
      "metadata": {
        "colab": {
          "base_uri": "https://localhost:8080/"
        },
        "id": "aW3Cehf5a11G",
        "outputId": "eaa46e33-f32f-4a86-8630-8605c34a23ca"
      },
      "outputs": [
        {
          "output_type": "stream",
          "name": "stdout",
          "text": [
            "Predicted Probabilities (Manual Calculation) - First 5 samples:\n",
            " [[0.51587987 0.26649042 0.21762971]\n",
            " [0.0611177  0.18509441 0.75378789]\n",
            " [0.03033621 0.93116525 0.03849855]\n",
            " [0.00397568 0.07438044 0.92164388]\n",
            " [0.32683212 0.00766169 0.66550619]]\n",
            "\n",
            "Predicted Probabilities (from sklearn.predict_proba) - First 5 samples:\n",
            " [[0.51587987 0.26649042 0.21762971]\n",
            " [0.0611177  0.18509441 0.75378789]\n",
            " [0.03033621 0.93116525 0.03849855]\n",
            " [0.00397568 0.07438044 0.92164388]\n",
            " [0.32683212 0.00766169 0.66550619]]\n"
          ]
        }
      ],
      "source": [
        "### your code here\n",
        "import numpy as np\n",
        "\n",
        "# Get the coefficients (beta values) and intercepts\n",
        "coefficients = multi_model.coef_\n",
        "intercepts = multi_model.intercept_\n",
        "\n",
        "# Calculate the linear function (β * X + intercept) for each class\n",
        "linear_function = np.dot(X_test_multi[['alcohol', 'malic_acid']], coefficients.T) + intercepts\n",
        "\n",
        "# Calculate the exponentials of each class's linear function\n",
        "exp_linear_function = np.exp(linear_function)\n",
        "\n",
        "# Calculate the sum of exponentials for all classes (denominator in softmax)\n",
        "sum_exp = np.sum(exp_linear_function, axis=1, keepdims=True)\n",
        "\n",
        "# Calculate predicted probabilities for each class\n",
        "predicted_probs_manual = exp_linear_function / sum_exp\n",
        "\n",
        "# Compare with the result from predict_proba\n",
        "predicted_probs_sklearn = multi_model.predict_proba(X_test_multi)\n",
        "\n",
        "# Print the first few predictions from both methods for comparison\n",
        "print(\"Predicted Probabilities (Manual Calculation) - First 5 samples:\\n\", predicted_probs_manual[:5])\n",
        "print(\"\\nPredicted Probabilities (from sklearn.predict_proba) - First 5 samples:\\n\", predicted_probs_sklearn[:5])\n"
      ]
    },
    {
      "cell_type": "markdown",
      "metadata": {
        "id": "oKm2zoFta11G"
      },
      "source": [
        "*your answer here*"
      ]
    },
    {
      "cell_type": "markdown",
      "metadata": {
        "id": "KlmpK46Va11G"
      },
      "source": [
        "**Q5**: For the OvR model, use the `predict_proba()` to estimate the predicted probabilities in the test set, and manually use this to calculate the predicted classes.  Feel free to confirm with the `predict` command."
      ]
    },
    {
      "cell_type": "code",
      "execution_count": 16,
      "metadata": {
        "colab": {
          "base_uri": "https://localhost:8080/"
        },
        "id": "ywYyKd1ba11H",
        "outputId": "1847bc67-4dbe-48e6-81f7-1cf392e0cd07"
      },
      "outputs": [
        {
          "output_type": "stream",
          "name": "stdout",
          "text": [
            "Manually Calculated Predicted Classes - First 5 samples: [0 2 1 2 2]\n",
            "\n",
            "Predicted Classes from sklearn.predict() - First 5 samples: [0 2 1 2 2]\n"
          ]
        }
      ],
      "source": [
        "### your code here\n",
        "# Get the predicted probabilities for each class using the OvR model\n",
        "predicted_probs_ovr = ovr_model.predict_proba(X_test_multi)\n",
        "\n",
        "# Manually calculate the predicted classes by selecting the class with the highest probability\n",
        "predicted_classes_manual = np.argmax(predicted_probs_ovr, axis=1)\n",
        "\n",
        "# Use the predict() method to get the predicted classes\n",
        "predicted_classes_sklearn = ovr_model.predict(X_test_multi)\n",
        "\n",
        "# Compare the manually calculated predicted classes with the result from predict()\n",
        "print(\"Manually Calculated Predicted Classes - First 5 samples:\", predicted_classes_manual[:5])\n",
        "print(\"\\nPredicted Classes from sklearn.predict() - First 5 samples:\", predicted_classes_sklearn[:5])\n",
        "\n",
        "# Check if both methods give the same result\n",
        "assert np.array_equal(predicted_classes_manual, predicted_classes_sklearn), \"The predicted classes do not match!\"\n"
      ]
    },
    {
      "cell_type": "markdown",
      "metadata": {
        "id": "TYX9ngJqa11H"
      },
      "source": [
        "**Q6**: How could you use the `predict_proba()` command and 'change the threshold' in the multiclass setting to affect predictive accuracies within each class?  Note: it is not as simple as changing a threshold because there is not threshold"
      ]
    },
    {
      "cell_type": "code",
      "source": [
        "'''In multiclass settings, predict_proba() provides probabilities for each class. To adjust thresholds, you can set a custom value (e.g., 0.7) and classify samples only if their highest probability exceeds the threshold. This makes the model more confident but can increase \"uncertainty\" when the threshold isn't met. Adjusting thresholds impacts accuracy by balancing precision and recall for each class.'''"
      ],
      "metadata": {
        "colab": {
          "base_uri": "https://localhost:8080/",
          "height": 53
        },
        "id": "8iQ88vZ-5gMm",
        "outputId": "8b0d6570-a474-4da6-970c-d283540179bf"
      },
      "execution_count": 17,
      "outputs": [
        {
          "output_type": "execute_result",
          "data": {
            "text/plain": [
              "'In multiclass settings, predict_proba() provides probabilities for each class. To adjust thresholds, you can set a custom value (e.g., 0.7) and classify samples only if their highest probability exceeds the threshold. This makes the model more confident but can increase \"uncertainty\" when the threshold isn\\'t met. Adjusting thresholds impacts accuracy by balancing precision and recall for each class.'"
            ],
            "application/vnd.google.colaboratory.intrinsic+json": {
              "type": "string"
            }
          },
          "metadata": {},
          "execution_count": 17
        }
      ]
    },
    {
      "cell_type": "code",
      "source": [
        "#Example\n",
        "# Get the predicted probabilities for each class using the OvR model\n",
        "predicted_probs_ovr = ovr_model.predict_proba(X_test_multi)\n",
        "\n",
        "# Define a custom threshold (for example, 0.7)\n",
        "threshold = 0.7\n",
        "\n",
        "# Initialize an array to store manually predicted classes\n",
        "predicted_classes_thresholded = []\n",
        "\n",
        "# Loop over each sample and apply the threshold rule\n",
        "for probs in predicted_probs_ovr:\n",
        "    # Find the class with the highest probability\n",
        "    max_prob_class = np.argmax(probs)\n",
        "    max_prob = probs[max_prob_class]\n",
        "\n",
        "    # If the highest probability is greater than the threshold, choose that class\n",
        "    if max_prob >= threshold:\n",
        "        predicted_classes_thresholded.append(max_prob_class)\n",
        "    else:\n",
        "        # If the threshold is not met, classify as 'uncertain' or as the most probable class\n",
        "        predicted_classes_thresholded.append(max_prob_class)  # or use a default class like -1 for \"uncertain\"\n",
        "\n",
        "# Compare the manually thresholded predictions with sklearn's default predict() method\n",
        "print(\"Manually Predicted Classes with Threshold - First 5 samples:\", predicted_classes_thresholded[:5])\n"
      ],
      "metadata": {
        "colab": {
          "base_uri": "https://localhost:8080/"
        },
        "id": "5NMDu-ZJ5qEK",
        "outputId": "a698b38e-6828-463f-c203-a26e1ec5f0c4"
      },
      "execution_count": 19,
      "outputs": [
        {
          "output_type": "stream",
          "name": "stdout",
          "text": [
            "Manually Predicted Classes with Threshold - First 5 samples: [0, 2, 1, 2, 2]\n"
          ]
        }
      ]
    },
    {
      "cell_type": "markdown",
      "metadata": {
        "id": "Msuz9xpAa11H"
      },
      "source": [
        "*your answer here*"
      ]
    },
    {
      "cell_type": "markdown",
      "metadata": {
        "id": "Hv0hSoo6a11I"
      },
      "source": [
        "**Q7**: Compare the accuracies in both train and test for both the multinomial and OvR logistic regressions.  Which seems to be performing better?  Is there any evidence of overfitting?  How could this be corrected?"
      ]
    },
    {
      "cell_type": "code",
      "execution_count": 20,
      "metadata": {
        "colab": {
          "base_uri": "https://localhost:8080/",
          "height": 53
        },
        "id": "k8n-_DYOa11I",
        "outputId": "7d9b41b1-66b3-4f83-d235-57c91b91b8fe"
      },
      "outputs": [
        {
          "output_type": "execute_result",
          "data": {
            "text/plain": [
              "\"To compare the accuracies of both Multinomial Logistic Regression and One-vs-Rest (OvR) Logistic Regression, you can calculate the accuracy on both the training and test datasets. This will help assess the model's performance and check for potential overfitting\""
            ],
            "application/vnd.google.colaboratory.intrinsic+json": {
              "type": "string"
            }
          },
          "metadata": {},
          "execution_count": 20
        }
      ],
      "source": [
        "'''To compare the accuracies of both Multinomial Logistic Regression and One-vs-Rest (OvR) Logistic Regression, you can calculate the accuracy on both the training and test datasets. This will help assess the model's performance and check for potential overfitting'''"
      ]
    },
    {
      "cell_type": "code",
      "source": [
        "'''If either model shows a large gap between train and test accuracies, it is likely overfitting, and regularization or other techniques like cross-validation should be considered to improve generalization.'''"
      ],
      "metadata": {
        "colab": {
          "base_uri": "https://localhost:8080/",
          "height": 36
        },
        "id": "BcQCB7oU6kzo",
        "outputId": "6655b6dd-2f12-42b2-972e-8d41121611bf"
      },
      "execution_count": 22,
      "outputs": [
        {
          "output_type": "execute_result",
          "data": {
            "text/plain": [
              "'If either model shows a large gap between train and test accuracies, it is likely overfitting, and regularization or other techniques like cross-validation should be considered to improve generalization.'"
            ],
            "application/vnd.google.colaboratory.intrinsic+json": {
              "type": "string"
            }
          },
          "metadata": {},
          "execution_count": 22
        }
      ]
    },
    {
      "cell_type": "code",
      "source": [
        "# Calculate accuracies for the Multinomial Logistic Regression\n",
        "train_accuracy_multi = multi_model.score(X_train_multi, y_train_multi)\n",
        "test_accuracy_multi = multi_model.score(X_test_multi, y_test_multi)\n",
        "\n",
        "# Calculate accuracies for the One-vs-Rest Logistic Regression\n",
        "train_accuracy_ovr = ovr_model.score(X_train_multi, y_train_multi)\n",
        "test_accuracy_ovr = ovr_model.score(X_test_multi, y_test_multi)\n",
        "\n",
        "# Print the results\n",
        "print(f\"Multinomial Logistic Regression - Train Accuracy: {train_accuracy_multi:.3f}, Test Accuracy: {test_accuracy_multi:.3f}\")\n",
        "print(f\"One-vs-Rest Logistic Regression - Train Accuracy: {train_accuracy_ovr:.3f}, Test Accuracy: {test_accuracy_ovr:.3f}\")\n",
        "\n",
        "# Check for overfitting\n",
        "if abs(train_accuracy_multi - test_accuracy_multi) > 0.1:\n",
        "    print(\"Multinomial model might be overfitting.\")\n",
        "if abs(train_accuracy_ovr - test_accuracy_ovr) > 0.1:\n",
        "    print(\"OvR model might be overfitting.\")\n"
      ],
      "metadata": {
        "colab": {
          "base_uri": "https://localhost:8080/"
        },
        "id": "gWHP4uk36VZr",
        "outputId": "147144a1-4bdd-40de-da69-68d2ab40a6af"
      },
      "execution_count": 21,
      "outputs": [
        {
          "output_type": "stream",
          "name": "stdout",
          "text": [
            "Multinomial Logistic Regression - Train Accuracy: 0.806, Test Accuracy: 0.704\n",
            "One-vs-Rest Logistic Regression - Train Accuracy: 0.790, Test Accuracy: 0.722\n",
            "Multinomial model might be overfitting.\n"
          ]
        }
      ]
    },
    {
      "cell_type": "markdown",
      "metadata": {
        "id": "X6QBtMf_a11I"
      },
      "source": [
        "*your answer here*"
      ]
    },
    {
      "cell_type": "markdown",
      "metadata": {
        "id": "SwWYabvoa11I"
      },
      "source": [
        "**Q8**: Create the classification boundaries for the two multiclass logistic regression models above.  How do they compare?"
      ]
    },
    {
      "cell_type": "code",
      "execution_count": 23,
      "metadata": {
        "colab": {
          "base_uri": "https://localhost:8080/",
          "height": 679
        },
        "id": "v8Mj1ZMZa11J",
        "outputId": "cf44edbd-e654-497f-9c09-e38d53a0545a"
      },
      "outputs": [
        {
          "output_type": "stream",
          "name": "stderr",
          "text": [
            "/usr/local/lib/python3.11/dist-packages/sklearn/utils/validation.py:2739: UserWarning: X does not have valid feature names, but LogisticRegression was fitted with feature names\n",
            "  warnings.warn(\n",
            "/usr/local/lib/python3.11/dist-packages/sklearn/utils/validation.py:2739: UserWarning: X does not have valid feature names, but LogisticRegression was fitted with feature names\n",
            "  warnings.warn(\n"
          ]
        },
        {
          "output_type": "display_data",
          "data": {
            "text/plain": [
              "<Figure size 1400x600 with 2 Axes>"
            ],
            "image/png": "[encoded data removed]"
          },
          "metadata": {}
        }
      ],
      "source": [
        "###your code here\n",
        "import numpy as np\n",
        "import matplotlib.pyplot as plt\n",
        "from matplotlib.colors import ListedColormap\n",
        "\n",
        "# Define the range of values for alcohol and malic acid\n",
        "x_min, x_max = X_full['alcohol'].min() - 1, X_full['alcohol'].max() + 1\n",
        "y_min, y_max = X_full['malic_acid'].min() - 1, X_full['malic_acid'].max() + 1\n",
        "\n",
        "# Create a meshgrid for the 2D feature space\n",
        "xx, yy = np.meshgrid(np.arange(x_min, x_max, 0.1),\n",
        "                     np.arange(y_min, y_max, 0.1))\n",
        "\n",
        "# Flatten the grid to pass it to the models\n",
        "grid_points = np.c_[xx.ravel(), yy.ravel()]\n",
        "\n",
        "# Predict the class for each point on the grid for both models\n",
        "multinomial_preds = multi_model.predict(grid_points)\n",
        "ovr_preds = ovr_model.predict(grid_points)\n",
        "\n",
        "# Reshape the predictions to match the shape of the meshgrid\n",
        "multinomial_preds = multinomial_preds.reshape(xx.shape)\n",
        "ovr_preds = ovr_preds.reshape(xx.shape)\n",
        "\n",
        "# Plotting the decision boundaries for Multinomial Logistic Regression\n",
        "plt.figure(figsize=(14, 6))\n",
        "\n",
        "# Plot the multinomial decision boundary\n",
        "plt.subplot(1, 2, 1)\n",
        "plt.contourf(xx, yy, multinomial_preds, cmap=ListedColormap(['#FFAAAA', '#AAAAFF', '#AAFFAA']), alpha=0.6)\n",
        "plt.scatter(X_test_multi['alcohol'], X_test_multi['malic_acid'], c=y_test_multi, edgecolors='k', cmap=plt.cm.Paired)\n",
        "plt.title('Multinomial Logistic Regression')\n",
        "plt.xlabel('Alcohol')\n",
        "plt.ylabel('Malic Acid')\n",
        "\n",
        "# Plotting the decision boundary for One-vs-Rest Logistic Regression\n",
        "plt.subplot(1, 2, 2)\n",
        "plt.contourf(xx, yy, ovr_preds, cmap=ListedColormap(['#FFAAAA', '#AAAAFF', '#AAFFAA']), alpha=0.6)\n",
        "plt.scatter(X_test_multi['alcohol'], X_test_multi['malic_acid'], c=y_test_multi, edgecolors='k', cmap=plt.cm.Paired)\n",
        "plt.title('One-vs-Rest Logistic Regression')\n",
        "plt.xlabel('Alcohol')\n",
        "plt.ylabel('Malic Acid')\n",
        "\n",
        "plt.tight_layout()\n",
        "plt.show()\n",
        "\n"
      ]
    },
    {
      "cell_type": "markdown",
      "metadata": {
        "id": "Yvb8MKDAa11J"
      },
      "source": [
        "*your answer here*"
      ]
    },
    {
      "cell_type": "markdown",
      "metadata": {
        "id": "Ma-76rBfa11J"
      },
      "source": [
        "**Q9**: Fit 3 different knn regression models: for $k = 3, 10, 30$. Visualize the classification boundaries for these 3 models and compare the results.  Which seem to be overfit?"
      ]
    },
    {
      "cell_type": "code",
      "execution_count": null,
      "metadata": {
        "id": "Twy7QeUqa11K"
      },
      "outputs": [],
      "source": [
        "### your answer here"
      ]
    },
    {
      "cell_type": "code",
      "execution_count": null,
      "metadata": {
        "id": "P3T_SntHa11K"
      },
      "outputs": [],
      "source": [
        "### your answer here"
      ]
    },
    {
      "cell_type": "markdown",
      "metadata": {
        "id": "9OSewDXXa11K"
      },
      "source": [
        "*your answer here*"
      ]
    },
    {
      "cell_type": "markdown",
      "metadata": {
        "id": "Ca0EZVHDa11K"
      },
      "source": [
        "**Q10** How could you visualize the classification boundary for any of these models if there was a single predictor?  What if there were more than 2 predictors?"
      ]
    },
    {
      "cell_type": "markdown",
      "metadata": {
        "id": "Uv7KracMa11L"
      },
      "source": [
        "*your answer here*"
      ]
    }
  ],
  "metadata": {
    "kernelspec": {
      "display_name": "Python 3 (ipykernel)",
      "language": "python",
      "name": "python3"
    },
    "language_info": {
      "codemirror_mode": {
        "name": "ipython",
        "version": 3
      },
      "file_extension": ".py",
      "mimetype": "text/x-python",
      "name": "python",
      "nbconvert_exporter": "python",
      "pygments_lexer": "ipython3",
      "version": "3.11.4"
    },
    "colab": {
      "provenance": []
    }
  },
  "nbformat": 4,
  "nbformat_minor": 0
}